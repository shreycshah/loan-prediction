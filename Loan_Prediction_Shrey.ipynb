{
 "cells": [
  {
   "cell_type": "code",
   "execution_count": 1,
   "metadata": {},
   "outputs": [],
   "source": [
    "import pandas as pd\n",
    "import numpy as np\n",
    "import matplotlib.pyplot as plt\n",
    "import seaborn as sns\n",
    "%matplotlib inline\n",
    "import warnings\n",
    "warnings.filterwarnings(\"ignore\")"
   ]
  },
  {
   "cell_type": "code",
   "execution_count": 2,
   "metadata": {},
   "outputs": [
    {
     "data": {
      "text/html": [
       "<div>\n",
       "<style scoped>\n",
       "    .dataframe tbody tr th:only-of-type {\n",
       "        vertical-align: middle;\n",
       "    }\n",
       "\n",
       "    .dataframe tbody tr th {\n",
       "        vertical-align: top;\n",
       "    }\n",
       "\n",
       "    .dataframe thead th {\n",
       "        text-align: right;\n",
       "    }\n",
       "</style>\n",
       "<table border=\"1\" class=\"dataframe\">\n",
       "  <thead>\n",
       "    <tr style=\"text-align: right;\">\n",
       "      <th></th>\n",
       "      <th>Loan_ID</th>\n",
       "      <th>Gender</th>\n",
       "      <th>Married</th>\n",
       "      <th>Dependents</th>\n",
       "      <th>Education</th>\n",
       "      <th>Self_Employed</th>\n",
       "      <th>ApplicantIncome</th>\n",
       "      <th>CoapplicantIncome</th>\n",
       "      <th>LoanAmount</th>\n",
       "      <th>Loan_Amount_Term</th>\n",
       "      <th>Credit_History</th>\n",
       "      <th>Property_Area</th>\n",
       "      <th>Loan_Status</th>\n",
       "    </tr>\n",
       "  </thead>\n",
       "  <tbody>\n",
       "    <tr>\n",
       "      <th>0</th>\n",
       "      <td>LP001002</td>\n",
       "      <td>Male</td>\n",
       "      <td>No</td>\n",
       "      <td>0</td>\n",
       "      <td>Graduate</td>\n",
       "      <td>No</td>\n",
       "      <td>5849</td>\n",
       "      <td>0.0</td>\n",
       "      <td>NaN</td>\n",
       "      <td>360.0</td>\n",
       "      <td>1.0</td>\n",
       "      <td>Urban</td>\n",
       "      <td>Y</td>\n",
       "    </tr>\n",
       "    <tr>\n",
       "      <th>1</th>\n",
       "      <td>LP001003</td>\n",
       "      <td>Male</td>\n",
       "      <td>Yes</td>\n",
       "      <td>1</td>\n",
       "      <td>Graduate</td>\n",
       "      <td>No</td>\n",
       "      <td>4583</td>\n",
       "      <td>1508.0</td>\n",
       "      <td>128.0</td>\n",
       "      <td>360.0</td>\n",
       "      <td>1.0</td>\n",
       "      <td>Rural</td>\n",
       "      <td>N</td>\n",
       "    </tr>\n",
       "    <tr>\n",
       "      <th>2</th>\n",
       "      <td>LP001005</td>\n",
       "      <td>Male</td>\n",
       "      <td>Yes</td>\n",
       "      <td>0</td>\n",
       "      <td>Graduate</td>\n",
       "      <td>Yes</td>\n",
       "      <td>3000</td>\n",
       "      <td>0.0</td>\n",
       "      <td>66.0</td>\n",
       "      <td>360.0</td>\n",
       "      <td>1.0</td>\n",
       "      <td>Urban</td>\n",
       "      <td>Y</td>\n",
       "    </tr>\n",
       "    <tr>\n",
       "      <th>3</th>\n",
       "      <td>LP001006</td>\n",
       "      <td>Male</td>\n",
       "      <td>Yes</td>\n",
       "      <td>0</td>\n",
       "      <td>Not Graduate</td>\n",
       "      <td>No</td>\n",
       "      <td>2583</td>\n",
       "      <td>2358.0</td>\n",
       "      <td>120.0</td>\n",
       "      <td>360.0</td>\n",
       "      <td>1.0</td>\n",
       "      <td>Urban</td>\n",
       "      <td>Y</td>\n",
       "    </tr>\n",
       "    <tr>\n",
       "      <th>4</th>\n",
       "      <td>LP001008</td>\n",
       "      <td>Male</td>\n",
       "      <td>No</td>\n",
       "      <td>0</td>\n",
       "      <td>Graduate</td>\n",
       "      <td>No</td>\n",
       "      <td>6000</td>\n",
       "      <td>0.0</td>\n",
       "      <td>141.0</td>\n",
       "      <td>360.0</td>\n",
       "      <td>1.0</td>\n",
       "      <td>Urban</td>\n",
       "      <td>Y</td>\n",
       "    </tr>\n",
       "  </tbody>\n",
       "</table>\n",
       "</div>"
      ],
      "text/plain": [
       "    Loan_ID Gender Married Dependents     Education Self_Employed  \\\n",
       "0  LP001002   Male      No          0      Graduate            No   \n",
       "1  LP001003   Male     Yes          1      Graduate            No   \n",
       "2  LP001005   Male     Yes          0      Graduate           Yes   \n",
       "3  LP001006   Male     Yes          0  Not Graduate            No   \n",
       "4  LP001008   Male      No          0      Graduate            No   \n",
       "\n",
       "   ApplicantIncome  CoapplicantIncome  LoanAmount  Loan_Amount_Term  \\\n",
       "0             5849                0.0         NaN             360.0   \n",
       "1             4583             1508.0       128.0             360.0   \n",
       "2             3000                0.0        66.0             360.0   \n",
       "3             2583             2358.0       120.0             360.0   \n",
       "4             6000                0.0       141.0             360.0   \n",
       "\n",
       "   Credit_History Property_Area Loan_Status  \n",
       "0             1.0         Urban           Y  \n",
       "1             1.0         Rural           N  \n",
       "2             1.0         Urban           Y  \n",
       "3             1.0         Urban           Y  \n",
       "4             1.0         Urban           Y  "
      ]
     },
     "execution_count": 2,
     "metadata": {},
     "output_type": "execute_result"
    }
   ],
   "source": [
    "data=pd.read_csv('Train.csv')\n",
    "test=pd.read_csv('Test.csv')\n",
    "data.head()"
   ]
  },
  {
   "cell_type": "code",
   "execution_count": 3,
   "metadata": {},
   "outputs": [
    {
     "data": {
      "text/plain": [
       "(614, 13)"
      ]
     },
     "execution_count": 3,
     "metadata": {},
     "output_type": "execute_result"
    }
   ],
   "source": [
    "data.shape"
   ]
  },
  {
   "cell_type": "code",
   "execution_count": 4,
   "metadata": {},
   "outputs": [
    {
     "data": {
      "text/plain": [
       "Loan_ID               0\n",
       "Gender               13\n",
       "Married               3\n",
       "Dependents           15\n",
       "Education             0\n",
       "Self_Employed        32\n",
       "ApplicantIncome       0\n",
       "CoapplicantIncome     0\n",
       "LoanAmount           22\n",
       "Loan_Amount_Term     14\n",
       "Credit_History       50\n",
       "Property_Area         0\n",
       "Loan_Status           0\n",
       "dtype: int64"
      ]
     },
     "execution_count": 4,
     "metadata": {},
     "output_type": "execute_result"
    }
   ],
   "source": [
    "data.isnull().sum()"
   ]
  },
  {
   "cell_type": "code",
   "execution_count": 5,
   "metadata": {},
   "outputs": [
    {
     "data": {
      "text/plain": [
       "Loan_ID              614\n",
       "Gender                 2\n",
       "Married                2\n",
       "Dependents             4\n",
       "Education              2\n",
       "Self_Employed          2\n",
       "ApplicantIncome      505\n",
       "CoapplicantIncome    287\n",
       "LoanAmount           203\n",
       "Loan_Amount_Term      10\n",
       "Credit_History         2\n",
       "Property_Area          3\n",
       "Loan_Status            2\n",
       "dtype: int64"
      ]
     },
     "execution_count": 5,
     "metadata": {},
     "output_type": "execute_result"
    }
   ],
   "source": [
    "data.nunique()"
   ]
  },
  {
   "cell_type": "code",
   "execution_count": 6,
   "metadata": {},
   "outputs": [
    {
     "data": {
      "text/plain": [
       "Loan_ID               0\n",
       "Gender               11\n",
       "Married               0\n",
       "Dependents           10\n",
       "Education             0\n",
       "Self_Employed        23\n",
       "ApplicantIncome       0\n",
       "CoapplicantIncome     0\n",
       "LoanAmount            5\n",
       "Loan_Amount_Term      6\n",
       "Credit_History       29\n",
       "Property_Area         0\n",
       "dtype: int64"
      ]
     },
     "execution_count": 6,
     "metadata": {},
     "output_type": "execute_result"
    }
   ],
   "source": [
    "test.isnull().sum()"
   ]
  },
  {
   "cell_type": "markdown",
   "metadata": {},
   "source": [
    "# Null Imputation"
   ]
  },
  {
   "cell_type": "code",
   "execution_count": 7,
   "metadata": {},
   "outputs": [],
   "source": [
    "data.Gender.fillna(data.Gender.mode()[0],inplace=True)\n",
    "test.Gender.fillna(data.Gender.mode()[0],inplace=True)\n",
    "\n",
    "data.Married.fillna(data.Married.mode()[0],inplace=True)\n",
    "\n",
    "data.Dependents.fillna(data.Dependents.mode()[0],inplace=True)\n",
    "test.Dependents.fillna(data.Dependents.mode()[0],inplace=True)\n",
    "\n",
    "data.Self_Employed.fillna(data.Self_Employed.mode()[0],inplace=True)\n",
    "test.Self_Employed.fillna(data.Self_Employed.mode()[0],inplace=True)\n",
    "\n",
    "data.LoanAmount.fillna(data.LoanAmount.median(),inplace=True)\n",
    "test.LoanAmount.fillna(data.LoanAmount.median(),inplace=True)\n",
    "\n",
    "data.Loan_Amount_Term.fillna(data.Loan_Amount_Term.mode()[0],inplace=True)\n",
    "test.Loan_Amount_Term.fillna(data.Loan_Amount_Term.mode()[0],inplace=True)\n",
    "\n",
    "data.Credit_History.fillna(\"Unknown\",inplace=True)\n",
    "test.Credit_History.fillna(\"Unknown\",inplace=True)"
   ]
  },
  {
   "cell_type": "markdown",
   "metadata": {},
   "source": [
    "# Oulier Removal "
   ]
  },
  {
   "cell_type": "code",
   "execution_count": 8,
   "metadata": {},
   "outputs": [],
   "source": [
    "from scipy import stats\n",
    "data['z_score_ApplicantIncome'] = np.abs(stats.zscore(data['ApplicantIncome']))\n",
    "data['z_score_LoanAmount']=np.abs(stats.zscore(data['LoanAmount']))\n",
    "data=data[data['z_score_ApplicantIncome']<=3]\n",
    "data=data[data['z_score_LoanAmount']<=3]\n",
    "data.drop(columns=['z_score_ApplicantIncome','z_score_LoanAmount'],axis=1,inplace=True)"
   ]
  },
  {
   "cell_type": "markdown",
   "metadata": {},
   "source": [
    "# Encoding"
   ]
  },
  {
   "cell_type": "code",
   "execution_count": 9,
   "metadata": {},
   "outputs": [],
   "source": [
    "data['Gender']=data['Gender'].map({\"Male\":0,\"Female\":1})\n",
    "test['Gender']=test['Gender'].map({\"Male\":0,\"Female\":1})\n",
    "\n",
    "data['Married']=data['Married'].map({\"Yes\":1,\"No\":0})\n",
    "test['Married']=test['Married'].map({\"Yes\":1,\"No\":0})\n",
    "\n",
    "data['Dependents']=data['Dependents'].map({\"0\":0,\"1\":1,\"2\":2,\"3+\":3})\n",
    "test['Dependents']=test['Dependents'].map({\"0\":0,\"1\":1,\"2\":2,\"3+\":3})\n",
    "\n",
    "data['Education']=data['Education'].map({\"Graduate\":1,'Not Graduate':0})\n",
    "test['Education']=test['Education'].map({\"Graduate\":1,'Not Graduate':0})\n",
    "\n",
    "data['Self_Employed']=data['Self_Employed'].map({\"Yes\":1,\"No\":0})\n",
    "test['Self_Employed']=test['Self_Employed'].map({\"Yes\":1,\"No\":0})\n",
    "\n",
    "data['Credit_History']=data['Credit_History'].astype(str)\n",
    "test['Credit_History']=test['Credit_History'].astype(str)\n",
    "data['Credit_History']=data['Credit_History'].map({\"1.0\":1,\"0.0\":0,\"Unknown\":2})\n",
    "test['Credit_History']=test['Credit_History'].map({\"1.0\":1,\"0.0\":0,\"Unknown\":2})\n",
    "\n",
    "data['Property_Area']=data['Property_Area'].map({'Urban':0,'Rural':1,'Semiurban':2})\n",
    "test['Property_Area']=test['Property_Area'].map({'Urban':0,'Rural':1,'Semiurban':2})"
   ]
  },
  {
   "cell_type": "markdown",
   "metadata": {},
   "source": [
    "# Feature Engineering"
   ]
  },
  {
   "cell_type": "code",
   "execution_count": 10,
   "metadata": {},
   "outputs": [],
   "source": [
    "data['Total_Income']=data['ApplicantIncome']+data['CoapplicantIncome']\n",
    "test['Total_Income']=test['ApplicantIncome']+test['CoapplicantIncome']\n",
    "\n",
    "data['Debt_Income_Ratio'] = (data['ApplicantIncome']+ data['CoapplicantIncome']) / data['LoanAmount']\n",
    "test['Debt_Income_Ratio'] = (test['ApplicantIncome']+ test['CoapplicantIncome']) / test['LoanAmount']"
   ]
  },
  {
   "cell_type": "code",
   "execution_count": 513,
   "metadata": {},
   "outputs": [],
   "source": [
    "bins=[0,2500,4000,6000,81000]\n",
    "group=[1,2,3,4]\n",
    "data['Income_bin'] = pd.cut(data['ApplicantIncome'],bins,labels=group)\n",
    "test['Income_bin'] = pd.cut(test['ApplicantIncome'],bins,labels=group)\n",
    "\n",
    "bins=[0,1000,3000,42000] \n",
    "group=[1,2,3] \n",
    "data['Coapplicant_Income_bin']=pd.cut(data['CoapplicantIncome'],bins,labels=group)\n",
    "test['Coapplicant_Income_bin']=pd.cut(test['CoapplicantIncome'],bins,labels=group)\n",
    "\n",
    "bins=[0,2500,4000,6000,81000]\n",
    "group=[1,2,3,4] \n",
    "data['Total_Income_bin']=pd.cut(data['Total_Income'],bins,labels=group)\n",
    "test['Total_Income_bin']=pd.cut(test['Total_Income'],bins,labels=group)\n",
    "\n",
    "interest_rate=0.08\n",
    "data['EMI'] = data.apply(lambda x: ((x['LoanAmount']*1000)/x['Loan_Amount_Term']) ,axis=1)\n",
    "data['Residual_monthly_income'] = (data['Total_Income']/12)-(data['EMI'])\n",
    "test['EMI'] = test.apply(lambda x: ((x['LoanAmount']*1000)/x['Loan_Amount_Term']) ,axis=1)\n",
    "test['Residual_monthly_income'] = (test['Total_Income']/12)-(test['EMI'])\n",
    "\n",
    "data['Redisual_Status'] = data['Residual_monthly_income'].apply(lambda x: 0 if x<0 else 1)\n",
    "test['Redisual_Status'] = test['Residual_monthly_income'].apply(lambda x: 0 if x<0 else 1)"
   ]
  },
  {
   "cell_type": "code",
   "execution_count": 514,
   "metadata": {},
   "outputs": [],
   "source": [
    "data['Loan_Status']=data['Loan_Status'].map({\"Y\":1,\"N\":0})"
   ]
  },
  {
   "cell_type": "code",
   "execution_count": 515,
   "metadata": {},
   "outputs": [],
   "source": [
    "data.drop(columns=['Loan_ID'],axis=1,inplace=True)\n",
    "X_test=test.drop(columns=['Loan_ID'],axis=1)"
   ]
  },
  {
   "cell_type": "code",
   "execution_count": 516,
   "metadata": {},
   "outputs": [
    {
     "data": {
      "text/html": [
       "<div>\n",
       "<style scoped>\n",
       "    .dataframe tbody tr th:only-of-type {\n",
       "        vertical-align: middle;\n",
       "    }\n",
       "\n",
       "    .dataframe tbody tr th {\n",
       "        vertical-align: top;\n",
       "    }\n",
       "\n",
       "    .dataframe thead th {\n",
       "        text-align: right;\n",
       "    }\n",
       "</style>\n",
       "<table border=\"1\" class=\"dataframe\">\n",
       "  <thead>\n",
       "    <tr style=\"text-align: right;\">\n",
       "      <th></th>\n",
       "      <th>Gender</th>\n",
       "      <th>Married</th>\n",
       "      <th>Dependents</th>\n",
       "      <th>Education</th>\n",
       "      <th>Self_Employed</th>\n",
       "      <th>ApplicantIncome</th>\n",
       "      <th>CoapplicantIncome</th>\n",
       "      <th>LoanAmount</th>\n",
       "      <th>Loan_Amount_Term</th>\n",
       "      <th>Credit_History</th>\n",
       "      <th>Property_Area</th>\n",
       "      <th>Loan_Status</th>\n",
       "      <th>Total_Income</th>\n",
       "      <th>Debt_Income_Ratio</th>\n",
       "      <th>Income_bin</th>\n",
       "      <th>Coapplicant_Income_bin</th>\n",
       "      <th>Total_Income_bin</th>\n",
       "      <th>EMI</th>\n",
       "      <th>Residual_monthly_income</th>\n",
       "      <th>Redisual_Status</th>\n",
       "    </tr>\n",
       "  </thead>\n",
       "  <tbody>\n",
       "    <tr>\n",
       "      <th>0</th>\n",
       "      <td>0</td>\n",
       "      <td>0</td>\n",
       "      <td>0</td>\n",
       "      <td>1</td>\n",
       "      <td>0</td>\n",
       "      <td>5849</td>\n",
       "      <td>0.0</td>\n",
       "      <td>128.0</td>\n",
       "      <td>360.0</td>\n",
       "      <td>1</td>\n",
       "      <td>0</td>\n",
       "      <td>1</td>\n",
       "      <td>5849.0</td>\n",
       "      <td>45.695312</td>\n",
       "      <td>3</td>\n",
       "      <td>NaN</td>\n",
       "      <td>3</td>\n",
       "      <td>355.555556</td>\n",
       "      <td>131.861111</td>\n",
       "      <td>1</td>\n",
       "    </tr>\n",
       "    <tr>\n",
       "      <th>1</th>\n",
       "      <td>0</td>\n",
       "      <td>1</td>\n",
       "      <td>1</td>\n",
       "      <td>1</td>\n",
       "      <td>0</td>\n",
       "      <td>4583</td>\n",
       "      <td>1508.0</td>\n",
       "      <td>128.0</td>\n",
       "      <td>360.0</td>\n",
       "      <td>1</td>\n",
       "      <td>1</td>\n",
       "      <td>0</td>\n",
       "      <td>6091.0</td>\n",
       "      <td>47.585938</td>\n",
       "      <td>3</td>\n",
       "      <td>2</td>\n",
       "      <td>4</td>\n",
       "      <td>355.555556</td>\n",
       "      <td>152.027778</td>\n",
       "      <td>1</td>\n",
       "    </tr>\n",
       "    <tr>\n",
       "      <th>2</th>\n",
       "      <td>0</td>\n",
       "      <td>1</td>\n",
       "      <td>0</td>\n",
       "      <td>1</td>\n",
       "      <td>1</td>\n",
       "      <td>3000</td>\n",
       "      <td>0.0</td>\n",
       "      <td>66.0</td>\n",
       "      <td>360.0</td>\n",
       "      <td>1</td>\n",
       "      <td>0</td>\n",
       "      <td>1</td>\n",
       "      <td>3000.0</td>\n",
       "      <td>45.454545</td>\n",
       "      <td>2</td>\n",
       "      <td>NaN</td>\n",
       "      <td>2</td>\n",
       "      <td>183.333333</td>\n",
       "      <td>66.666667</td>\n",
       "      <td>1</td>\n",
       "    </tr>\n",
       "    <tr>\n",
       "      <th>3</th>\n",
       "      <td>0</td>\n",
       "      <td>1</td>\n",
       "      <td>0</td>\n",
       "      <td>0</td>\n",
       "      <td>0</td>\n",
       "      <td>2583</td>\n",
       "      <td>2358.0</td>\n",
       "      <td>120.0</td>\n",
       "      <td>360.0</td>\n",
       "      <td>1</td>\n",
       "      <td>0</td>\n",
       "      <td>1</td>\n",
       "      <td>4941.0</td>\n",
       "      <td>41.175000</td>\n",
       "      <td>2</td>\n",
       "      <td>2</td>\n",
       "      <td>3</td>\n",
       "      <td>333.333333</td>\n",
       "      <td>78.416667</td>\n",
       "      <td>1</td>\n",
       "    </tr>\n",
       "    <tr>\n",
       "      <th>4</th>\n",
       "      <td>0</td>\n",
       "      <td>0</td>\n",
       "      <td>0</td>\n",
       "      <td>1</td>\n",
       "      <td>0</td>\n",
       "      <td>6000</td>\n",
       "      <td>0.0</td>\n",
       "      <td>141.0</td>\n",
       "      <td>360.0</td>\n",
       "      <td>1</td>\n",
       "      <td>0</td>\n",
       "      <td>1</td>\n",
       "      <td>6000.0</td>\n",
       "      <td>42.553191</td>\n",
       "      <td>3</td>\n",
       "      <td>NaN</td>\n",
       "      <td>3</td>\n",
       "      <td>391.666667</td>\n",
       "      <td>108.333333</td>\n",
       "      <td>1</td>\n",
       "    </tr>\n",
       "  </tbody>\n",
       "</table>\n",
       "</div>"
      ],
      "text/plain": [
       "   Gender  Married  Dependents  Education  Self_Employed  ApplicantIncome  \\\n",
       "0       0        0           0          1              0             5849   \n",
       "1       0        1           1          1              0             4583   \n",
       "2       0        1           0          1              1             3000   \n",
       "3       0        1           0          0              0             2583   \n",
       "4       0        0           0          1              0             6000   \n",
       "\n",
       "   CoapplicantIncome  LoanAmount  Loan_Amount_Term  Credit_History  \\\n",
       "0                0.0       128.0             360.0               1   \n",
       "1             1508.0       128.0             360.0               1   \n",
       "2                0.0        66.0             360.0               1   \n",
       "3             2358.0       120.0             360.0               1   \n",
       "4                0.0       141.0             360.0               1   \n",
       "\n",
       "   Property_Area  Loan_Status  Total_Income  Debt_Income_Ratio Income_bin  \\\n",
       "0              0            1        5849.0          45.695312          3   \n",
       "1              1            0        6091.0          47.585938          3   \n",
       "2              0            1        3000.0          45.454545          2   \n",
       "3              0            1        4941.0          41.175000          2   \n",
       "4              0            1        6000.0          42.553191          3   \n",
       "\n",
       "  Coapplicant_Income_bin Total_Income_bin         EMI  \\\n",
       "0                    NaN                3  355.555556   \n",
       "1                      2                4  355.555556   \n",
       "2                    NaN                2  183.333333   \n",
       "3                      2                3  333.333333   \n",
       "4                    NaN                3  391.666667   \n",
       "\n",
       "   Residual_monthly_income  Redisual_Status  \n",
       "0               131.861111                1  \n",
       "1               152.027778                1  \n",
       "2                66.666667                1  \n",
       "3                78.416667                1  \n",
       "4               108.333333                1  "
      ]
     },
     "execution_count": 516,
     "metadata": {},
     "output_type": "execute_result"
    }
   ],
   "source": [
    "data.head()"
   ]
  },
  {
   "cell_type": "markdown",
   "metadata": {},
   "source": [
    "# Train-Validation Split"
   ]
  },
  {
   "cell_type": "code",
   "execution_count": 517,
   "metadata": {},
   "outputs": [
    {
     "data": {
      "text/plain": [
       "((475, 19), (475,), (119, 19), (119,))"
      ]
     },
     "execution_count": 517,
     "metadata": {},
     "output_type": "execute_result"
    }
   ],
   "source": [
    "from sklearn.model_selection import train_test_split\n",
    "train, validation = train_test_split(\n",
    "    data,\n",
    "    test_size=0.20,\n",
    "    random_state=0,\n",
    "      )\n",
    "\n",
    "X_train=train.drop(columns=['Loan_Status'])\n",
    "y_train=train['Loan_Status']\n",
    "\n",
    "X_validation=validation.drop(columns=['Loan_Status'])\n",
    "y_validation=validation['Loan_Status']\n",
    "\n",
    "X_train.shape, y_train.shape, X_validation.shape, y_validation.shape"
   ]
  },
  {
   "cell_type": "markdown",
   "metadata": {},
   "source": [
    "# Feature Selection"
   ]
  },
  {
   "cell_type": "code",
   "execution_count": 483,
   "metadata": {},
   "outputs": [],
   "source": [
    "# from catboost import CatBoostClassifier\n",
    "# from mlxtend.feature_selection import SequentialFeatureSelector as SFS\n",
    "# sfs= SFS(CatBoostClassifier(random_state=0,iterations=500),\n",
    "#          k_features=(1,19),\n",
    "#          forward=True,\n",
    "#          floating=False,\n",
    "#          verbose=2,\n",
    "#          scoring='accuracy',\n",
    "#          cv=3,\n",
    "#          n_jobs=-1\n",
    "#         ).fit(X_train,y_train)\n",
    "# sfs.k_feature_names_"
   ]
  },
  {
   "cell_type": "code",
   "execution_count": 519,
   "metadata": {},
   "outputs": [
    {
     "data": {
      "text/html": [
       "<div>\n",
       "<style scoped>\n",
       "    .dataframe tbody tr th:only-of-type {\n",
       "        vertical-align: middle;\n",
       "    }\n",
       "\n",
       "    .dataframe tbody tr th {\n",
       "        vertical-align: top;\n",
       "    }\n",
       "\n",
       "    .dataframe thead th {\n",
       "        text-align: right;\n",
       "    }\n",
       "</style>\n",
       "<table border=\"1\" class=\"dataframe\">\n",
       "  <thead>\n",
       "    <tr style=\"text-align: right;\">\n",
       "      <th></th>\n",
       "      <th>Self_Employed</th>\n",
       "      <th>Loan_Amount_Term</th>\n",
       "      <th>Credit_History</th>\n",
       "      <th>Property_Area</th>\n",
       "      <th>Debt_Income_Ratio</th>\n",
       "      <th>Residual_monthly_income</th>\n",
       "      <th>Redisual_Status</th>\n",
       "    </tr>\n",
       "  </thead>\n",
       "  <tbody>\n",
       "    <tr>\n",
       "      <th>231</th>\n",
       "      <td>0</td>\n",
       "      <td>180.0</td>\n",
       "      <td>1</td>\n",
       "      <td>1</td>\n",
       "      <td>88.476190</td>\n",
       "      <td>76.333333</td>\n",
       "      <td>1</td>\n",
       "    </tr>\n",
       "    <tr>\n",
       "      <th>564</th>\n",
       "      <td>0</td>\n",
       "      <td>360.0</td>\n",
       "      <td>0</td>\n",
       "      <td>0</td>\n",
       "      <td>34.104651</td>\n",
       "      <td>16.583333</td>\n",
       "      <td>1</td>\n",
       "    </tr>\n",
       "    <tr>\n",
       "      <th>481</th>\n",
       "      <td>0</td>\n",
       "      <td>360.0</td>\n",
       "      <td>1</td>\n",
       "      <td>1</td>\n",
       "      <td>27.389381</td>\n",
       "      <td>-55.972222</td>\n",
       "      <td>0</td>\n",
       "    </tr>\n",
       "    <tr>\n",
       "      <th>45</th>\n",
       "      <td>0</td>\n",
       "      <td>360.0</td>\n",
       "      <td>1</td>\n",
       "      <td>0</td>\n",
       "      <td>38.750000</td>\n",
       "      <td>39.722222</td>\n",
       "      <td>1</td>\n",
       "    </tr>\n",
       "    <tr>\n",
       "      <th>213</th>\n",
       "      <td>1</td>\n",
       "      <td>360.0</td>\n",
       "      <td>1</td>\n",
       "      <td>1</td>\n",
       "      <td>43.869231</td>\n",
       "      <td>114.138889</td>\n",
       "      <td>1</td>\n",
       "    </tr>\n",
       "  </tbody>\n",
       "</table>\n",
       "</div>"
      ],
      "text/plain": [
       "     Self_Employed  Loan_Amount_Term  Credit_History  Property_Area  \\\n",
       "231              0             180.0               1              1   \n",
       "564              0             360.0               0              0   \n",
       "481              0             360.0               1              1   \n",
       "45               0             360.0               1              0   \n",
       "213              1             360.0               1              1   \n",
       "\n",
       "     Debt_Income_Ratio  Residual_monthly_income  Redisual_Status  \n",
       "231          88.476190                76.333333                1  \n",
       "564          34.104651                16.583333                1  \n",
       "481          27.389381               -55.972222                0  \n",
       "45           38.750000                39.722222                1  \n",
       "213          43.869231               114.138889                1  "
      ]
     },
     "execution_count": 519,
     "metadata": {},
     "output_type": "execute_result"
    }
   ],
   "source": [
    "features=['Self_Employed',\n",
    " 'Loan_Amount_Term',\n",
    " 'Credit_History',\n",
    " 'Property_Area',\n",
    " 'Debt_Income_Ratio',\n",
    " 'Residual_monthly_income',\n",
    " 'Redisual_Status']\n",
    "\n",
    "X_train=X_train[features]\n",
    "X_validation=X_validation[features]\n",
    "X_test=X_test[features]\n",
    "X_train.head()"
   ]
  },
  {
   "cell_type": "markdown",
   "metadata": {},
   "source": [
    "# XGB Training Model"
   ]
  },
  {
   "cell_type": "code",
   "execution_count": 499,
   "metadata": {},
   "outputs": [],
   "source": [
    "from sklearn import metrics"
   ]
  },
  {
   "cell_type": "code",
   "execution_count": 500,
   "metadata": {},
   "outputs": [
    {
     "name": "stdout",
     "output_type": "stream",
     "text": [
      "Accuracy for xgb: 0.7815126050420168\n",
      "f1 score for xgb: 0.8488372093023256\n"
     ]
    }
   ],
   "source": [
    "from xgboost import XGBClassifier\n",
    "xgb = XGBClassifier(random_state=1)\n",
    "xgb.fit(X_train,y_train)\n",
    "y_pred_xgb=xgb.predict(X_validation)\n",
    "print(\"Accuracy for xgb:\",metrics.accuracy_score(y_validation, y_pred_xgb))\n",
    "print(\"f1 score for xgb:\",metrics.f1_score(y_validation,y_pred_xgb))\n",
    "# Accuracy for xgb: 0.8151260504201681\n",
    "# f1 score for xgb: 0.8735632183908046"
   ]
  },
  {
   "cell_type": "code",
   "execution_count": 362,
   "metadata": {},
   "outputs": [],
   "source": [
    "# params={\n",
    "#  \"learning_rate\"    : [ 0.03,0.04,0.05] ,\n",
    "#  \"max_depth\"        : [ 4,5,6],\n",
    "#  \"min_child_weight\" : [ 1,2,3,],\n",
    "#  \"gamma\"            : [ 0.0,0.05, 0.1 ],\n",
    "#  \"colsample_bytree\" : [ 0.85,0.9,0.95,1 ],\n",
    "#  \"n_estimators\"     : [70, 80, 90, 100]\n",
    "# }\n",
    "# classifier=XGBClassifier(random_state=0)\n",
    "# from sklearn.model_selection import GridSearchCV\n",
    "# grid_search=GridSearchCV(classifier,param_grid=params,scoring='accuracy',n_jobs=-1,cv=3,verbose=2)\n",
    "# grid_search.fit(X_train,y_train)"
   ]
  },
  {
   "cell_type": "code",
   "execution_count": 524,
   "metadata": {},
   "outputs": [],
   "source": [
    "#print(grid_search.best_params_)\n",
    "xgb_tuned=XGBClassifier(random_state=0,colsample_bytree=0.85,learning_rate=0.03,max_depth=4,min_child_weight=2,\n",
    "                       n_estimators=80)"
   ]
  },
  {
   "cell_type": "code",
   "execution_count": 525,
   "metadata": {},
   "outputs": [
    {
     "name": "stdout",
     "output_type": "stream",
     "text": [
      "Accuracy for xgb_tuned: 0.8319327731092437\n",
      "f1 score for xgb_tuned: 0.8901098901098902\n"
     ]
    }
   ],
   "source": [
    "xgb_tuned.fit(X_train,y_train)\n",
    "y_pred_xgb_tuned=xgb_tuned.predict(X_validation)\n",
    "print(\"Accuracy for xgb_tuned:\",metrics.accuracy_score(y_validation, y_pred_xgb_tuned))\n",
    "print(\"f1 score for xgb_tuned:\",metrics.f1_score(y_validation,y_pred_xgb_tuned))\n",
    "# Accuracy for xgb_tuned: 0.8235294117647058\n",
    "# f1 score for xgb_tuned: 0.883977900552486"
   ]
  },
  {
   "cell_type": "markdown",
   "metadata": {},
   "source": [
    "# LGB Training Model"
   ]
  },
  {
   "cell_type": "code",
   "execution_count": 489,
   "metadata": {},
   "outputs": [
    {
     "name": "stdout",
     "output_type": "stream",
     "text": [
      "Accuracy for lgb: 0.7899159663865546\n",
      "f1 score for lgb: 0.8571428571428571\n"
     ]
    }
   ],
   "source": [
    "from lightgbm import LGBMClassifier\n",
    "lgb = LGBMClassifier(random_state=2)\n",
    "lgb.fit(X_train,y_train)\n",
    "y_pred_lgb=lgb.predict(X_validation)\n",
    "print(\"Accuracy for lgb:\",metrics.accuracy_score(y_validation, y_pred_lgb))\n",
    "print(\"f1 score for lgb:\",metrics.f1_score(y_validation,y_pred_lgb))"
   ]
  },
  {
   "cell_type": "code",
   "execution_count": 398,
   "metadata": {},
   "outputs": [],
   "source": [
    "# params={\n",
    "#  \"learning_rate\"    : [0.008,0.009,0.01,0.02,0.03] ,\n",
    "#  \"boosting_type\"    : ['gdbt','dart'],\n",
    "#  \"max_depth\"        : [-1,2,4,6,8],\n",
    "#  \"n_estimators\"     : [50,60,70,80,100,150]\n",
    "# }\n",
    "\n",
    "# classifier=LGBMClassifier(random_state=0)\n",
    "# from sklearn.model_selection import GridSearchCV\n",
    "# grid_search=GridSearchCV(classifier,param_grid=params,scoring='accuracy',n_jobs=-1,cv=3,verbose=2)\n",
    "# grid_search.fit(X_train,y_train)"
   ]
  },
  {
   "cell_type": "code",
   "execution_count": 490,
   "metadata": {},
   "outputs": [],
   "source": [
    "#print(grid_search.best_params_)\n",
    "lgb_tuned=LGBMClassifier(random_state=0,boosting_type='dart',max_depth=-1,n_estimators=80,learning_rate=0.008)"
   ]
  },
  {
   "cell_type": "code",
   "execution_count": 491,
   "metadata": {},
   "outputs": [
    {
     "name": "stdout",
     "output_type": "stream",
     "text": [
      "Accuracy for lgb_tuned: 0.8235294117647058\n",
      "f1 score for lgb_tuned: 0.8864864864864865\n"
     ]
    }
   ],
   "source": [
    "lgb_tuned.fit(X_train,y_train)\n",
    "y_pred_lgb_tuned=lgb_tuned.predict(X_validation)\n",
    "print(\"Accuracy for lgb_tuned:\",metrics.accuracy_score(y_validation, y_pred_lgb_tuned))\n",
    "print(\"f1 score for lgb_tuned:\",metrics.f1_score(y_validation,y_pred_lgb_tuned))\n",
    "# Accuracy for lgb_tuned: 0.8235294117647058\n",
    "# f1 score for lgb_tuned: 0.8864864864864865"
   ]
  },
  {
   "cell_type": "markdown",
   "metadata": {},
   "source": [
    "# CatB Training Model"
   ]
  },
  {
   "cell_type": "code",
   "execution_count": 520,
   "metadata": {},
   "outputs": [
    {
     "name": "stdout",
     "output_type": "stream",
     "text": [
      "Accuracy for cat: 0.8235294117647058\n",
      "f1 score for cat: 0.88268156424581\n"
     ]
    }
   ],
   "source": [
    "from catboost import CatBoostClassifier\n",
    "cat = CatBoostClassifier(random_state=100,logging_level='Silent')\n",
    "cat.fit(X_train,y_train)\n",
    "y_pred_cat=cat.predict(X_validation)\n",
    "print(\"Accuracy for cat:\",metrics.accuracy_score(y_validation, y_pred_cat))\n",
    "print(\"f1 score for cat:\",metrics.f1_score(y_validation,y_pred_cat))\n",
    "# Accuracy for cat: 0.8151260504201681\n",
    "# f1 score for cat: 0.8791208791208791"
   ]
  },
  {
   "cell_type": "code",
   "execution_count": 370,
   "metadata": {},
   "outputs": [],
   "source": [
    "# params={\n",
    "#  \"learning_rate\"    : [0.005,0.007,0.0075,0.008,0.01],\n",
    "#  \"depth\"            : [6,7,8,9],\n",
    "#  \"iterations\"       : [800,1000,1200,1500,1800],\n",
    "#  'l2_leaf_reg'      : [1,2,3],\n",
    "# }\n",
    "# classifier=CatBoostClassifier(random_state=0,logging_level='Silent')\n",
    "# from sklearn.model_selection import GridSearchCV\n",
    "# grid_search=GridSearchCV(classifier,param_grid=params,scoring='accuracy',n_jobs=-1,cv=3,verbose=2)\n",
    "# grid_search.fit(X_train,y_train)"
   ]
  },
  {
   "cell_type": "code",
   "execution_count": 493,
   "metadata": {},
   "outputs": [],
   "source": [
    "#print(grid_search.best_params_)\n",
    "cat_tuned=CatBoostClassifier(random_state=0,logging_level='Silent',learning_rate=0.005,depth=8,\n",
    "                             iterations=800,l2_leaf_reg=3)"
   ]
  },
  {
   "cell_type": "code",
   "execution_count": 494,
   "metadata": {},
   "outputs": [
    {
     "name": "stdout",
     "output_type": "stream",
     "text": [
      "Accuracy for cat_tuned: 0.8235294117647058\n",
      "f1 score for cat_tuned: 0.8852459016393442\n"
     ]
    }
   ],
   "source": [
    "cat_tuned.fit(X_train,y_train)\n",
    "y_pred_cat_tuned=cat_tuned.predict(X_validation)\n",
    "print(\"Accuracy for cat_tuned:\",metrics.accuracy_score(y_validation, y_pred_cat_tuned))\n",
    "print(\"f1 score for cat_tuned:\",metrics.f1_score(y_validation,y_pred_cat_tuned))\n",
    "# Accuracy for cat_tuned: 0.8235294117647058\n",
    "# f1 score for cat_tuned: 0.8864864864864865"
   ]
  },
  {
   "cell_type": "markdown",
   "metadata": {},
   "source": [
    "# VC"
   ]
  },
  {
   "cell_type": "code",
   "execution_count": 495,
   "metadata": {},
   "outputs": [
    {
     "name": "stdout",
     "output_type": "stream",
     "text": [
      "Accuracy for cat_lgb_xgb: 0.8235294117647058\n",
      "f1 score for cat_lgb_xgb: 0.8852459016393442\n"
     ]
    }
   ],
   "source": [
    "from sklearn.ensemble import VotingClassifier\n",
    "vc = VotingClassifier([('cat', cat_tuned), ('lgb', lgb_tuned),('xgb',xgb_tuned)])\n",
    "y_pred_vc=vc.fit(X_train, y_train).predict(X_validation)\n",
    "print(\"Accuracy for cat_lgb_xgb:\",metrics.accuracy_score(y_validation, y_pred_vc))\n",
    "print(\"f1 score for cat_lgb_xgb:\",metrics.f1_score(y_validation,y_pred_vc))"
   ]
  },
  {
   "cell_type": "markdown",
   "metadata": {},
   "source": [
    "# Logistic Regression"
   ]
  },
  {
   "cell_type": "code",
   "execution_count": 496,
   "metadata": {},
   "outputs": [
    {
     "name": "stdout",
     "output_type": "stream",
     "text": [
      "0.8235294117647058\n",
      "0.8864864864864865\n"
     ]
    }
   ],
   "source": [
    "from sklearn.linear_model import LogisticRegression\n",
    "lr=LogisticRegression()\n",
    "lr.fit(X_train,y_train)\n",
    "lr_pred=lr.predict(X_validation)\n",
    "print(metrics.accuracy_score(y_validation, lr_pred))\n",
    "print(metrics.f1_score(y_validation,lr_pred))"
   ]
  },
  {
   "cell_type": "markdown",
   "metadata": {},
   "source": [
    "# Final Prediction"
   ]
  },
  {
   "cell_type": "code",
   "execution_count": 526,
   "metadata": {},
   "outputs": [],
   "source": [
    "y_test=xgb_tuned.predict(X_test)"
   ]
  },
  {
   "cell_type": "code",
   "execution_count": 527,
   "metadata": {},
   "outputs": [],
   "source": [
    "submission=pd.DataFrame({'Loan_ID': test[\"Loan_ID\"],'Loan_Status':y_test})\n",
    "submission['Loan_Status']=np.where(submission['Loan_Status']==1,'Y','N')"
   ]
  },
  {
   "cell_type": "code",
   "execution_count": 528,
   "metadata": {},
   "outputs": [],
   "source": [
    "submission.to_csv('xgb_new_sub.csv',index=False)"
   ]
  },
  {
   "cell_type": "code",
   "execution_count": null,
   "metadata": {},
   "outputs": [],
   "source": []
  }
 ],
 "metadata": {
  "kernelspec": {
   "display_name": "Python 3",
   "language": "python",
   "name": "python3"
  },
  "language_info": {
   "codemirror_mode": {
    "name": "ipython",
    "version": 3
   },
   "file_extension": ".py",
   "mimetype": "text/x-python",
   "name": "python",
   "nbconvert_exporter": "python",
   "pygments_lexer": "ipython3",
   "version": "3.7.6"
  }
 },
 "nbformat": 4,
 "nbformat_minor": 4
}
